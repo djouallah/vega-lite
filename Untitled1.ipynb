{
  "nbformat": 4,
  "nbformat_minor": 0,
  "metadata": {
    "colab": {
      "name": "Untitled1.ipynb",
      "version": "0.3.2",
      "provenance": [],
      "collapsed_sections": []
    },
    "kernelspec": {
      "name": "python3",
      "display_name": "Python 3"
    }
  },
  "cells": [
    {
      "metadata": {
        "id": "p8z4sSNxgzfY",
        "colab_type": "code",
        "outputId": "aff5a227-06dc-453f-e652-c18a4a2b5d51",
        "colab": {
          "base_uri": "https://localhost:8080/",
          "height": 332
        }
      },
      "cell_type": "code",
      "source": [
        "import altair as alt\n",
        "floor_Plan = alt.topo_feature('https://raw.githubusercontent.com/djouallah/R_leaflet_MAP/master/foundation.json', 'foundation')\n",
        "source = 'https://raw.githubusercontent.com/djouallah/R_leaflet_MAP/master/data/data.csv'\n",
        "map = alt.Chart(floor_Plan).mark_geoshape().encode(\n",
        "color='progress:Q',\n",
        "tooltip=['properties.id:N','progress:N']).transform_lookup(\n",
        "    lookup='properties.id',\n",
        "    from_=alt.LookupData(source, 'id', ['progress']))\n",
        "\n",
        "map.save('map.html')\n",
        "map"
      ],
      "execution_count": 0,
      "outputs": [
        {
          "output_type": "execute_result",
          "data": {
            "text/plain": [
              "Chart({\n",
              "  data: UrlData({\n",
              "    format: TopoDataFormat({\n",
              "      feature: 'foundation',\n",
              "      type: 'topojson'\n",
              "    }),\n",
              "    url: 'https://raw.githubusercontent.com/djouallah/R_leaflet_MAP/master/foundation.json'\n",
              "  }),\n",
              "  encoding: EncodingWithFacet({\n",
              "    color: Color({\n",
              "      shorthand: 'progress:Q'\n",
              "    }),\n",
              "    tooltip: [Tooltip({\n",
              "      shorthand: 'properties.id:N'\n",
              "    }), Tooltip({\n",
              "      shorthand: 'progress:N'\n",
              "    })]\n",
              "  }),\n",
              "  mark: 'geoshape',\n",
              "  transform: [LookupTransform({\n",
              "    from: LookupData({\n",
              "      data: 'https://raw.githubusercontent.com/djouallah/R_leaflet_MAP/master/data/data.csv',\n",
              "      fields: ['progress'],\n",
              "      key: 'id'\n",
              "    }),\n",
              "    lookup: 'properties.id'\n",
              "  })]\n",
              "})"
            ],
            "text/html": [
              "<!DOCTYPE html>\n",
              "<html>\n",
              "<head>\n",
              "  <style>\n",
              "    .vega-actions a {\n",
              "        margin-right: 12px;\n",
              "        color: #757575;\n",
              "        font-weight: normal;\n",
              "        font-size: 13px;\n",
              "    }\n",
              "    .error {\n",
              "        color: red;\n",
              "    }\n",
              "  </style>\n",
              "  <script type=\"text/javascript\" src=\"https://cdn.jsdelivr.net/npm//vega@4\"></script>\n",
              "  <script type=\"text/javascript\" src=\"https://cdn.jsdelivr.net/npm//vega-lite@2.6.0\"></script>\n",
              "  <script type=\"text/javascript\" src=\"https://cdn.jsdelivr.net/npm//vega-embed@3\"></script>\n",
              "</head>\n",
              "<body>\n",
              "  <div id=\"altair-viz\"></div>\n",
              "  <script>\n",
              "      var spec = {\"config\": {\"view\": {\"width\": 400, \"height\": 300}}, \"data\": {\"url\": \"https://raw.githubusercontent.com/djouallah/R_leaflet_MAP/master/foundation.json\", \"format\": {\"feature\": \"foundation\", \"type\": \"topojson\"}}, \"mark\": \"geoshape\", \"encoding\": {\"color\": {\"type\": \"quantitative\", \"field\": \"progress\"}, \"tooltip\": [{\"type\": \"nominal\", \"field\": \"properties.id\"}, {\"type\": \"nominal\", \"field\": \"progress\"}]}, \"transform\": [{\"lookup\": \"properties.id\", \"from\": {\"data\": {\"url\": \"https://raw.githubusercontent.com/djouallah/R_leaflet_MAP/master/data/data.csv\"}, \"key\": \"id\", \"fields\": [\"progress\"]}}], \"$schema\": \"https://vega.github.io/schema/vega-lite/v2.6.0.json\"};\n",
              "      var embedOpt = {\"mode\": \"vega-lite\"};\n",
              "\n",
              "      function showError(el, error){\n",
              "          el.innerHTML = ('<div class=\"error\" style=\"color:red;\">'\n",
              "                          + '<p>JavaScript Error: ' + error.message + '</p>'\n",
              "                          + \"<p>This usually means there's a typo in your chart specification. \"\n",
              "                          + \"See the javascript console for the full traceback.</p>\"\n",
              "                          + '</div>');\n",
              "          throw error;\n",
              "      }\n",
              "      const el = document.getElementById('altair-viz');\n",
              "      vegaEmbed(\"#altair-viz\", spec, embedOpt)\n",
              "        .catch(error => showError(el, error));\n",
              "\n",
              "  </script>\n",
              "</body>\n",
              "</html>"
            ]
          },
          "metadata": {
            "tags": []
          },
          "execution_count": 1
        }
      ]
    }
  ]
}