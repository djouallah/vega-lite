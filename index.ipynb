{
 "cells": [
  {
   "cell_type": "code",
   "execution_count": 3,
   "metadata": {},
   "outputs": [
    {
     "data": {
      "application/vnd.vegalite.v2+json": {
       "$schema": "https://vega.github.io/schema/vega-lite/v2.6.0.json",
       "config": {
        "view": {
         "height": 300,
         "width": 400
        }
       },
       "hconcat": [
        {
         "data": {
          "format": {
           "parse": {
            "date": "date:\"%e/%m/%Y\""
           },
           "type": "csv"
          },
          "url": "https://raw.githubusercontent.com/djouallah/vega-lite/master/data/earned.csv"
         },
         "encoding": {
          "color": {
           "condition": {
            "selection": "selector003",
            "value": "steelblue"
           },
           "value": "grey"
          },
          "x": {
           "aggregate": "sum",
           "field": "earned",
           "type": "quantitative"
          },
          "y": {
           "field": "category",
           "type": "nominal"
          }
         },
         "height": 200,
         "mark": "bar",
         "selection": {
          "selector003": {
           "empty": "all",
           "encodings": [
            "y"
           ],
           "on": "click",
           "resolve": "global",
           "toggle": "event.shiftKey",
           "type": "multi"
          }
         },
         "width": 550
        },
        {
         "layer": [
          {
           "layer": [
            {
             "data": {
              "format": {
               "parse": {
                "date": "date:\"%e/%m/%Y\""
               },
               "type": "csv"
              },
              "url": "https://raw.githubusercontent.com/djouallah/vega-lite/master/data/earned.csv"
             },
             "encoding": {
              "x": {
               "axis": {
                "format": "%d %b %y"
               },
               "field": "date",
               "timeUnit": "yearmonthdate",
               "type": "ordinal"
              },
              "y": {
               "field": "period",
               "type": "quantitative"
              }
             },
             "mark": {
              "color": "black",
              "type": "bar"
             },
             "transform": [
              {
               "filter": {
                "selection": "selector003"
               }
              },
              {
               "aggregate": [
                {
                 "as": "sum_installed_cumulative",
                 "field": "earned_cumulative",
                 "op": "sum"
                },
                {
                 "as": "sum_planned_cumulative",
                 "field": "planned_cumulative",
                 "op": "sum"
                },
                {
                 "as": "sum_budget",
                 "field": "budget",
                 "op": "sum"
                },
                {
                 "as": "sum_Installed_qty",
                 "field": "earned",
                 "op": "sum"
                }
               ],
               "groupby": [
                "date"
               ]
              },
              {
               "as": "earned_cumulative",
               "calculate": "datum.sum_installed_cumulative / datum.sum_budget"
              },
              {
               "as": "planned_cumulative",
               "calculate": "datum.sum_planned_cumulative / datum.sum_budget"
              },
              {
               "as": "period",
               "calculate": "datum.sum_Installed_qty/ datum.sum_budget*100"
              }
             ]
            },
            {
             "data": {
              "format": {
               "parse": {
                "date": "date:\"%e/%m/%Y\""
               },
               "type": "csv"
              },
              "url": "https://raw.githubusercontent.com/djouallah/vega-lite/master/data/earned.csv"
             },
             "encoding": {
              "text": {
               "field": "period",
               "type": "quantitative"
              },
              "x": {
               "axis": {
                "format": "%d %b %y"
               },
               "field": "date",
               "timeUnit": "yearmonthdate",
               "type": "ordinal"
              },
              "y": {
               "field": "period",
               "type": "quantitative"
              }
             },
             "mark": {
              "align": "center",
              "baseline": "middle",
              "dx": 3,
              "type": "text"
             },
             "transform": [
              {
               "filter": {
                "selection": "selector003"
               }
              },
              {
               "aggregate": [
                {
                 "as": "sum_installed_cumulative",
                 "field": "earned_cumulative",
                 "op": "sum"
                },
                {
                 "as": "sum_planned_cumulative",
                 "field": "planned_cumulative",
                 "op": "sum"
                },
                {
                 "as": "sum_budget",
                 "field": "budget",
                 "op": "sum"
                },
                {
                 "as": "sum_Installed_qty",
                 "field": "earned",
                 "op": "sum"
                }
               ],
               "groupby": [
                "date"
               ]
              },
              {
               "as": "earned_cumulative",
               "calculate": "datum.sum_installed_cumulative / datum.sum_budget"
              },
              {
               "as": "planned_cumulative",
               "calculate": "datum.sum_planned_cumulative / datum.sum_budget"
              },
              {
               "as": "period",
               "calculate": "datum.sum_Installed_qty/ datum.sum_budget*100"
              }
             ]
            }
           ]
          },
          {
           "layer": [
            {
             "data": {
              "format": {
               "parse": {
                "date": "date:\"%e/%m/%Y\""
               },
               "type": "csv"
              },
              "url": "https://raw.githubusercontent.com/djouallah/vega-lite/master/data/earned.csv"
             },
             "encoding": {
              "x": {
               "axis": {
                "format": "%d %b %y"
               },
               "field": "date",
               "timeUnit": "yearmonthdate",
               "type": "ordinal"
              },
              "y": {
               "field": "earned_cumulative",
               "type": "quantitative"
              }
             },
             "mark": {
              "color": "red",
              "type": "line"
             },
             "transform": [
              {
               "filter": {
                "selection": "selector003"
               }
              },
              {
               "aggregate": [
                {
                 "as": "sum_installed_cumulative",
                 "field": "earned_cumulative",
                 "op": "sum"
                },
                {
                 "as": "sum_planned_cumulative",
                 "field": "planned_cumulative",
                 "op": "sum"
                },
                {
                 "as": "sum_budget",
                 "field": "budget",
                 "op": "sum"
                },
                {
                 "as": "sum_Installed_qty",
                 "field": "earned",
                 "op": "sum"
                }
               ],
               "groupby": [
                "date"
               ]
              },
              {
               "as": "earned_cumulative",
               "calculate": "datum.sum_installed_cumulative / datum.sum_budget"
              },
              {
               "as": "planned_cumulative",
               "calculate": "datum.sum_planned_cumulative / datum.sum_budget"
              },
              {
               "as": "period",
               "calculate": "datum.sum_Installed_qty/ datum.sum_budget*100"
              }
             ]
            },
            {
             "data": {
              "format": {
               "parse": {
                "date": "date:\"%e/%m/%Y\""
               },
               "type": "csv"
              },
              "url": "https://raw.githubusercontent.com/djouallah/vega-lite/master/data/earned.csv"
             },
             "encoding": {
              "x": {
               "axis": {
                "format": "%d %b %y"
               },
               "field": "date",
               "timeUnit": "yearmonthdate",
               "type": "ordinal"
              },
              "y": {
               "field": "planned_cumulative",
               "type": "quantitative"
              }
             },
             "mark": {
              "color": "green",
              "type": "line"
             },
             "transform": [
              {
               "filter": {
                "selection": "selector003"
               }
              },
              {
               "aggregate": [
                {
                 "as": "sum_installed_cumulative",
                 "field": "earned_cumulative",
                 "op": "sum"
                },
                {
                 "as": "sum_planned_cumulative",
                 "field": "planned_cumulative",
                 "op": "sum"
                },
                {
                 "as": "sum_budget",
                 "field": "budget",
                 "op": "sum"
                },
                {
                 "as": "sum_Installed_qty",
                 "field": "earned",
                 "op": "sum"
                }
               ],
               "groupby": [
                "date"
               ]
              },
              {
               "as": "earned_cumulative",
               "calculate": "datum.sum_installed_cumulative / datum.sum_budget"
              },
              {
               "as": "planned_cumulative",
               "calculate": "datum.sum_planned_cumulative / datum.sum_budget"
              },
              {
               "as": "period",
               "calculate": "datum.sum_Installed_qty/ datum.sum_budget*100"
              }
             ]
            }
           ]
          }
         ],
         "resolve": {
          "scale": {
           "x": "shared",
           "y": "independent"
          }
         }
        }
       ],
       "resolve": {
        "legend": {
         "color": "independent",
         "size": "independent"
        }
       }
      },
      "image/png": "[encoded data removed]",
      "text/plain": [
       "<VegaLite 2 object>\n",
       "\n",
       "If you see this message, it means the renderer has not been properly enabled\n",
       "for the frontend that you are using. For more information, see\n",
       "https://altair-viz.github.io/user_guide/troubleshooting.html\n"
      ]
     },
     "execution_count": 3,
     "metadata": {},
     "output_type": "execute_result"
    }
   ],
   "source": [
    "import altair as alt\n",
    "\n",
    "path='https://raw.githubusercontent.com/djouallah/vega-lite/master/data/earned.csv'\n",
    "df = alt.UrlData(url=path, format=alt.CsvDataFormat(parse={'date': 'date:\"%e/%m/%Y\"'}))\n",
    "pts = alt.selection(type='multi', encodings=['y'])\n",
    "\n",
    "barselect = alt.Chart(df).mark_bar().encode(\n",
    "    y='category:N',\n",
    "    x='sum(earned):Q',\n",
    "    color=alt.condition(pts, alt.ColorValue(\"steelblue\"), alt.ColorValue(\"grey\"))\n",
    ").properties(\n",
    "    selection=pts,\n",
    "    width=550,\n",
    "    height=200\n",
    ")   \n",
    "  \n",
    "line_earned = alt.Chart(df).transform_filter(\n",
    "    pts\n",
    "      ).transform_aggregate(\n",
    "    sum_installed_cumulative='sum(earned_cumulative)',\n",
    "    sum_planned_cumulative='sum(planned_cumulative)',\n",
    "    sum_budget='sum(budget)',\n",
    "    sum_Installed_qty='sum(earned)',\n",
    "    groupby=['date']\n",
    ").transform_calculate(\n",
    "    earned_cumulative='datum.sum_installed_cumulative / datum.sum_budget',\n",
    "    planned_cumulative='datum.sum_planned_cumulative / datum.sum_budget',\n",
    "    period='datum.sum_Installed_qty/ datum.sum_budget*100'\n",
    ").mark_line(color='red').encode(\n",
    "    x=alt.X(\"date:O\", timeUnit=\"yearmonthdate\",axis=alt.Axis(format=\"%d %b %y\")),\n",
    "    y='earned_cumulative:Q'\n",
    ")\n",
    "bar= line_earned.mark_bar(color='black').encode(\n",
    "        y='period:Q'\n",
    ")  \n",
    "line_planned= line_earned.mark_line(color=\"green\").encode(\n",
    "        y='planned_cumulative:Q'\n",
    ")  \n",
    "text = bar.mark_text(\n",
    "    align='center',\n",
    "    baseline='middle',\n",
    "    dx=3  # Nudges text to right so it doesn't appear on top of the bar\n",
    "                ).encode(text='period:Q') \n",
    "\n",
    "combo = alt.layer(\n",
    "    bar+ text,\n",
    "    line_earned+line_planned\n",
    "     ).resolve_scale(y='independent')\n",
    "    \n",
    "    \n",
    "chart= alt.hconcat(\n",
    "    barselect,\n",
    "    combo\n",
    ").resolve_legend(\n",
    "    color=\"independent\",\n",
    "    size=\"independent\"\n",
    ")\n",
    "chart.save('docs/index.html')\n",
    "chart"
   ]
  },
  {
   "cell_type": "code",
   "execution_count": null,
   "metadata": {},
   "outputs": [],
   "source": []
  }
 ],
 "metadata": {
  "kernelspec": {
   "display_name": "Python 3",
   "language": "python",
   "name": "python3"
  },
  "language_info": {
   "codemirror_mode": {
    "name": "ipython",
    "version": 3
   },
   "file_extension": ".py",
   "mimetype": "text/x-python",
   "name": "python",
   "nbconvert_exporter": "python",
   "pygments_lexer": "ipython3",
   "version": "3.7.1"
  }
 },
 "nbformat": 4,
 "nbformat_minor": 2
}
