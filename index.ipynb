{
 "cells": [
  {
   "cell_type": "code",
   "execution_count": 22,
   "metadata": {},
   "outputs": [
    {
     "data": {
      "application/vnd.vegalite.v2+json": {
       "$schema": "https://vega.github.io/schema/vega-lite/v2.6.0.json",
       "config": {
        "view": {
         "height": 300,
         "width": 400
        }
       },
       "resolve": {
        "legend": {
         "color": "independent",
         "size": "independent"
        }
       },
       "vconcat": [
        {
         "hconcat": [
          {
           "data": {
            "format": {
             "parse": {
              "date": "date:\"%e/%m/%Y\""
             },
             "type": "csv"
            },
            "url": "https://raw.githubusercontent.com/djouallah/vega-lite/master/data/earned.csv"
           },
           "encoding": {
            "color": {
             "condition": {
              "selection": "selector044",
              "value": "steelblue"
             },
             "value": "grey"
            },
            "tooltip": [
             {
              "field": "progresstodate",
              "format": ",.2%",
              "type": "quantitative"
             },
             {
              "field": "category2",
              "type": "nominal"
             }
            ],
            "x": {
             "axis": {
              "format": "%"
             },
             "field": "progresstodate",
             "type": "quantitative"
            },
            "y": {
             "field": "category2",
             "sort": {
              "field": "progresstodate",
              "op": "max",
              "order": "descending"
             },
             "title": "Area",
             "type": "nominal"
            }
           },
           "height": 400,
           "mark": "bar",
           "selection": {
            "selector044": {
             "empty": "all",
             "encodings": [
              "y"
             ],
             "on": "click",
             "resolve": "global",
             "toggle": "event.shiftKey",
             "type": "multi"
            }
           },
           "transform": [
            {
             "aggregate": [
              {
               "as": "max_budget",
               "field": "last_budget",
               "op": "sum"
              },
              {
               "as": "sum_Installed_qty",
               "field": "earned",
               "op": "sum"
              }
             ],
             "groupby": [
              "category2"
             ]
            },
            {
             "as": "progresstodate",
             "calculate": "datum.sum_Installed_qty/ datum.max_budget"
            }
           ],
           "width": 550
          },
          {
           "data": {
            "format": {
             "parse": {
              "date": "date:\"%e/%m/%Y\""
             },
             "type": "csv"
            },
            "url": "https://raw.githubusercontent.com/djouallah/vega-lite/master/data/earned.csv"
           },
           "encoding": {
            "color": {
             "condition": {
              "selection": "selector043",
              "value": "steelblue"
             },
             "value": "grey"
            },
            "tooltip": [
             {
              "field": "progresstodate",
              "format": ",.2%",
              "type": "quantitative"
             },
             {
              "field": "category",
              "type": "nominal"
             }
            ],
            "x": {
             "axis": {
              "format": "%"
             },
             "field": "progresstodate",
             "type": "quantitative"
            },
            "y": {
             "axis": {
              "orient": "right"
             },
             "field": "category",
             "sort": {
              "field": "progresstodate",
              "op": "max",
              "order": "descending"
             },
             "title": "Subcontractors",
             "type": "nominal"
            }
           },
           "height": 400,
           "mark": "bar",
           "selection": {
            "selector043": {
             "empty": "all",
             "encodings": [
              "y"
             ],
             "on": "click",
             "resolve": "global",
             "toggle": "event.shiftKey",
             "type": "multi"
            }
           },
           "transform": [
            {
             "filter": {
              "selection": "selector044"
             }
            },
            {
             "aggregate": [
              {
               "as": "max_budget",
               "field": "last_budget",
               "op": "sum"
              },
              {
               "as": "sum_Installed_qty",
               "field": "earned",
               "op": "sum"
              }
             ],
             "groupby": [
              "category"
             ]
            },
            {
             "as": "progresstodate",
             "calculate": "datum.sum_Installed_qty/ datum.max_budget"
            }
           ],
           "width": 550
          }
         ]
        },
        {
         "height": 300,
         "layer": [
          {
           "layer": [
            {
             "data": {
              "format": {
               "parse": {
                "date": "date:\"%e/%m/%Y\""
               },
               "type": "csv"
              },
              "url": "https://raw.githubusercontent.com/djouallah/vega-lite/master/data/earned.csv"
             },
             "encoding": {
              "tooltip": [
               {
                "field": "earned_cumulative",
                "format": ",.2%",
                "type": "quantitative"
               },
               {
                "field": "planned_cumulative",
                "format": ",.2%",
                "type": "quantitative"
               }
              ],
              "x": {
               "axis": {
                "format": "%d %b %y"
               },
               "field": "date",
               "timeUnit": "yearmonthdate",
               "title": "date",
               "type": "ordinal"
              },
              "y": {
               "field": "period",
               "type": "quantitative"
              }
             },
             "mark": {
              "color": "black",
              "type": "bar"
             },
             "transform": [
              {
               "filter": {
                "selection": "selector044"
               }
              },
              {
               "filter": {
                "selection": "selector043"
               }
              },
              {
               "aggregate": [
                {
                 "as": "sum_installed_cumulative",
                 "field": "earned_cumulative",
                 "op": "sum"
                },
                {
                 "as": "sum_planned_cumulative",
                 "field": "planned_cumulative",
                 "op": "sum"
                },
                {
                 "as": "sum_budget",
                 "field": "budget",
                 "op": "sum"
                },
                {
                 "as": "sum_baseline_budget",
                 "field": "baseline_budget",
                 "op": "sum"
                },
                {
                 "as": "sum_Installed_qty",
                 "field": "earned",
                 "op": "sum"
                },
                {
                 "as": "sum_type",
                 "field": "type",
                 "op": "sum"
                }
               ],
               "groupby": [
                "date"
               ]
              },
              {
               "as": "earned_cumulative",
               "calculate": "if (datum.sum_type>0,datum.sum_installed_cumulative / datum.sum_budget,null)"
              },
              {
               "as": "planned_cumulative",
               "calculate": "if(datum.sum_baseline_budget > 0 ,datum.sum_planned_cumulative / datum.sum_baseline_budget,null)"
              },
              {
               "as": "period",
               "calculate": "if(datum.sum_Installed_qty >0,datum.sum_Installed_qty/ datum.sum_budget,null)"
              }
             ]
            },
            {
             "data": {
              "format": {
               "parse": {
                "date": "date:\"%e/%m/%Y\""
               },
               "type": "csv"
              },
              "url": "https://raw.githubusercontent.com/djouallah/vega-lite/master/data/earned.csv"
             },
             "encoding": {
              "text": {
               "field": "period",
               "format": ",.2%",
               "type": "quantitative"
              },
              "tooltip": [
               {
                "field": "earned_cumulative",
                "format": ",.2%",
                "type": "quantitative"
               },
               {
                "field": "planned_cumulative",
                "format": ",.2%",
                "type": "quantitative"
               }
              ],
              "x": {
               "axis": {
                "format": "%d %b %y"
               },
               "field": "date",
               "timeUnit": "yearmonthdate",
               "title": "date",
               "type": "ordinal"
              },
              "y": {
               "field": "period",
               "type": "quantitative"
              }
             },
             "mark": {
              "align": "center",
              "baseline": "bottom",
              "dx": 7,
              "type": "text"
             },
             "transform": [
              {
               "filter": {
                "selection": "selector044"
               }
              },
              {
               "filter": {
                "selection": "selector043"
               }
              },
              {
               "aggregate": [
                {
                 "as": "sum_installed_cumulative",
                 "field": "earned_cumulative",
                 "op": "sum"
                },
                {
                 "as": "sum_planned_cumulative",
                 "field": "planned_cumulative",
                 "op": "sum"
                },
                {
                 "as": "sum_budget",
                 "field": "budget",
                 "op": "sum"
                },
                {
                 "as": "sum_baseline_budget",
                 "field": "baseline_budget",
                 "op": "sum"
                },
                {
                 "as": "sum_Installed_qty",
                 "field": "earned",
                 "op": "sum"
                },
                {
                 "as": "sum_type",
                 "field": "type",
                 "op": "sum"
                }
               ],
               "groupby": [
                "date"
               ]
              },
              {
               "as": "earned_cumulative",
               "calculate": "if (datum.sum_type>0,datum.sum_installed_cumulative / datum.sum_budget,null)"
              },
              {
               "as": "planned_cumulative",
               "calculate": "if(datum.sum_baseline_budget > 0 ,datum.sum_planned_cumulative / datum.sum_baseline_budget,null)"
              },
              {
               "as": "period",
               "calculate": "if(datum.sum_Installed_qty >0,datum.sum_Installed_qty/ datum.sum_budget,null)"
              }
             ]
            }
           ]
          },
          {
           "layer": [
            {
             "data": {
              "format": {
               "parse": {
                "date": "date:\"%e/%m/%Y\""
               },
               "type": "csv"
              },
              "url": "https://raw.githubusercontent.com/djouallah/vega-lite/master/data/earned.csv"
             },
             "encoding": {
              "tooltip": [
               {
                "field": "earned_cumulative",
                "format": ",.2%",
                "type": "quantitative"
               },
               {
                "field": "planned_cumulative",
                "format": ",.2%",
                "type": "quantitative"
               }
              ],
              "x": {
               "axis": {
                "format": "%d %b %y"
               },
               "field": "date",
               "timeUnit": "yearmonthdate",
               "title": "date",
               "type": "ordinal"
              },
              "y": {
               "field": "earned_cumulative",
               "type": "quantitative"
              }
             },
             "mark": {
              "color": "red",
              "type": "line"
             },
             "transform": [
              {
               "filter": {
                "selection": "selector044"
               }
              },
              {
               "filter": {
                "selection": "selector043"
               }
              },
              {
               "aggregate": [
                {
                 "as": "sum_installed_cumulative",
                 "field": "earned_cumulative",
                 "op": "sum"
                },
                {
                 "as": "sum_planned_cumulative",
                 "field": "planned_cumulative",
                 "op": "sum"
                },
                {
                 "as": "sum_budget",
                 "field": "budget",
                 "op": "sum"
                },
                {
                 "as": "sum_baseline_budget",
                 "field": "baseline_budget",
                 "op": "sum"
                },
                {
                 "as": "sum_Installed_qty",
                 "field": "earned",
                 "op": "sum"
                },
                {
                 "as": "sum_type",
                 "field": "type",
                 "op": "sum"
                }
               ],
               "groupby": [
                "date"
               ]
              },
              {
               "as": "earned_cumulative",
               "calculate": "if (datum.sum_type>0,datum.sum_installed_cumulative / datum.sum_budget,null)"
              },
              {
               "as": "planned_cumulative",
               "calculate": "if(datum.sum_baseline_budget > 0 ,datum.sum_planned_cumulative / datum.sum_baseline_budget,null)"
              },
              {
               "as": "period",
               "calculate": "if(datum.sum_Installed_qty >0,datum.sum_Installed_qty/ datum.sum_budget,null)"
              }
             ]
            },
            {
             "data": {
              "format": {
               "parse": {
                "date": "date:\"%e/%m/%Y\""
               },
               "type": "csv"
              },
              "url": "https://raw.githubusercontent.com/djouallah/vega-lite/master/data/earned.csv"
             },
             "encoding": {
              "tooltip": [
               {
                "field": "earned_cumulative",
                "format": ",.2%",
                "type": "quantitative"
               },
               {
                "field": "planned_cumulative",
                "format": ",.2%",
                "type": "quantitative"
               }
              ],
              "x": {
               "axis": {
                "format": "%d %b %y"
               },
               "field": "date",
               "timeUnit": "yearmonthdate",
               "title": "date",
               "type": "ordinal"
              },
              "y": {
               "field": "planned_cumulative",
               "type": "quantitative"
              }
             },
             "mark": {
              "color": "green",
              "type": "line"
             },
             "transform": [
              {
               "filter": {
                "selection": "selector044"
               }
              },
              {
               "filter": {
                "selection": "selector043"
               }
              },
              {
               "aggregate": [
                {
                 "as": "sum_installed_cumulative",
                 "field": "earned_cumulative",
                 "op": "sum"
                },
                {
                 "as": "sum_planned_cumulative",
                 "field": "planned_cumulative",
                 "op": "sum"
                },
                {
                 "as": "sum_budget",
                 "field": "budget",
                 "op": "sum"
                },
                {
                 "as": "sum_baseline_budget",
                 "field": "baseline_budget",
                 "op": "sum"
                },
                {
                 "as": "sum_Installed_qty",
                 "field": "earned",
                 "op": "sum"
                },
                {
                 "as": "sum_type",
                 "field": "type",
                 "op": "sum"
                }
               ],
               "groupby": [
                "date"
               ]
              },
              {
               "as": "earned_cumulative",
               "calculate": "if (datum.sum_type>0,datum.sum_installed_cumulative / datum.sum_budget,null)"
              },
              {
               "as": "planned_cumulative",
               "calculate": "if(datum.sum_baseline_budget > 0 ,datum.sum_planned_cumulative / datum.sum_baseline_budget,null)"
              },
              {
               "as": "period",
               "calculate": "if(datum.sum_Installed_qty >0,datum.sum_Installed_qty/ datum.sum_budget,null)"
              }
             ]
            }
           ]
          }
         ],
         "resolve": {
          "scale": {
           "x": "shared",
           "y": "independent"
          }
         },
         "width": 1150
        }
       ]
      },
      "image/png": "[encoded data removed]",
      "text/plain": [
       "<VegaLite 2 object>\n",
       "\n",
       "If you see this message, it means the renderer has not been properly enabled\n",
       "for the frontend that you are using. For more information, see\n",
       "https://altair-viz.github.io/user_guide/troubleshooting.html\n"
      ]
     },
     "execution_count": 22,
     "metadata": {},
     "output_type": "execute_result"
    }
   ],
   "source": [
    "import altair as alt\n",
    "import pandas as pd\n",
    "\n",
    "\n",
    "\n",
    "path='https://raw.githubusercontent.com/djouallah/vega-lite/master/data/earned.csv'\n",
    "df = alt.UrlData(url=path, format=alt.CsvDataFormat(parse={'date': 'date:\"%e/%m/%Y\"'}))\n",
    "\n",
    "\n",
    "#df=pd.read_csv(\"data/earned_real_data.csv\",parse_dates=[0], dayfirst=True)\n",
    "\n",
    "\n",
    "pts = alt.selection(type='multi', encodings=['y'])\n",
    "############################################################################\n",
    "dropdown = alt.selection(type='multi', encodings=['y'])\n",
    "\n",
    "bardropdown = alt.Chart(df).transform_aggregate(\n",
    "    max_budget='sum(last_budget)',\n",
    "    sum_Installed_qty='sum(earned)',\n",
    "    groupby=['category2']\n",
    ").transform_calculate(\n",
    "    progresstodate='datum.sum_Installed_qty/ datum.max_budget'\n",
    ").mark_bar().encode(\n",
    "    y=alt.Y('category2:N',sort=alt.EncodingSortField(field=\"progresstodate\", op=\"max\", order='descending'),title=\"Area\"),\n",
    "    x=alt.X('progresstodate:Q',axis=alt.Axis(format='%')),\n",
    "    color=alt.condition(dropdown, alt.ColorValue(\"steelblue\"), alt.ColorValue(\"grey\")),\n",
    "    tooltip=[alt.Text('progresstodate:Q', format=',.2%'),'category2:N']\n",
    "\n",
    ").properties(\n",
    "    selection=dropdown,\n",
    "    width=550,\n",
    "    height=400\n",
    ")  \n",
    "#####################################################################################\n",
    "\n",
    "barselect = alt.Chart(df).transform_filter(\n",
    "    dropdown ).transform_aggregate(\n",
    "    max_budget='sum(last_budget)',\n",
    "    sum_Installed_qty='sum(earned)',\n",
    "    groupby=['category']\n",
    ").transform_calculate(\n",
    "    progresstodate='datum.sum_Installed_qty/ datum.max_budget'\n",
    ").mark_bar().encode(\n",
    "    y=alt.Y('category:N',sort=alt.EncodingSortField(field=\"progresstodate\", op=\"max\", order='descending'),title=\"Subcontractors\",axis=alt.Axis(orient=\"right\")),\n",
    "    x=alt.X('progresstodate:Q',axis=alt.Axis(format='%')),\n",
    "    color=alt.condition(pts, alt.ColorValue(\"steelblue\"), alt.ColorValue(\"grey\")),\n",
    "    tooltip=[alt.Text('progresstodate:Q', format=',.2%'),'category:N']\n",
    "\n",
    ").properties(\n",
    "    selection=pts,\n",
    "    width=550,\n",
    "    height=400\n",
    ")  \n",
    "\n",
    "#############################################################################\n",
    "line_earned = alt.Chart(df).transform_filter(\n",
    "    dropdown \n",
    ").transform_filter(pts\n",
    "      ).transform_aggregate(\n",
    "    sum_installed_cumulative='sum(earned_cumulative)',\n",
    "    sum_planned_cumulative='sum(planned_cumulative)',\n",
    "    sum_budget='sum(budget)',\n",
    "    sum_baseline_budget='sum(baseline_budget)',\n",
    "    sum_Installed_qty='sum(earned)',\n",
    "    sum_type='sum(type)',\n",
    "    groupby=['date']\n",
    ").transform_calculate(\n",
    "    earned_cumulative='if (datum.sum_type>0,datum.sum_installed_cumulative / datum.sum_budget,null)',\n",
    "    planned_cumulative='if(datum.sum_baseline_budget > 0 ,datum.sum_planned_cumulative / datum.sum_baseline_budget,null)',\n",
    "    period='if(datum.sum_Installed_qty >0,datum.sum_Installed_qty/ datum.sum_budget,null)'\n",
    ").mark_line(color='red').encode(\n",
    "    x=alt.X(\"date:O\", timeUnit=\"yearmonthdate\",axis=alt.Axis(format=\"%d %b %y\"),title=\"date\"),\n",
    "    y='earned_cumulative:Q',\n",
    "    tooltip=[alt.Text('earned_cumulative:Q',format=',.2%'),alt.Text('planned_cumulative:Q',format=',.2%')]\n",
    ")\n",
    "bar= line_earned.mark_bar(color='black').encode(\n",
    "        y='period:Q'\n",
    ")  \n",
    "line_planned= line_earned.mark_line(color=\"green\").encode(\n",
    "        y='planned_cumulative:Q'\n",
    ")  \n",
    "text = bar.mark_text(\n",
    "    align='center',\n",
    "    baseline='bottom',\n",
    "    dx=7  # Nudges text to right so it doesn't appear on top of the bar\n",
    "                ).encode(text=alt.Text('period:Q', format=',.2%'))\n",
    "\n",
    "combo = alt.layer(\n",
    "    bar+ text,\n",
    "    line_earned+line_planned\n",
    "     ).resolve_scale(y='independent'\n",
    "     ).properties(\n",
    "    width=1150,\n",
    "    height=300\n",
    ")\n",
    "    \n",
    "###########################################################################    \n",
    "chart= alt.vconcat(\n",
    "    bardropdown | barselect,\n",
    "    combo\n",
    ").resolve_legend(\n",
    "    color=\"independent\",\n",
    "    size=\"independent\"\n",
    ")\n",
    "chart.save('docs/index.html')\n",
    "chart"
   ]
  },
  {
   "cell_type": "code",
   "execution_count": null,
   "metadata": {},
   "outputs": [],
   "source": []
  },
  {
   "cell_type": "code",
   "execution_count": null,
   "metadata": {},
   "outputs": [],
   "source": []
  },
  {
   "cell_type": "code",
   "execution_count": null,
   "metadata": {},
   "outputs": [],
   "source": []
  }
 ],
 "metadata": {
  "kernelspec": {
   "display_name": "Python 3",
   "language": "python",
   "name": "python3"
  },
  "language_info": {
   "codemirror_mode": {
    "name": "ipython",
    "version": 3
   },
   "file_extension": ".py",
   "mimetype": "text/x-python",
   "name": "python",
   "nbconvert_exporter": "python",
   "pygments_lexer": "ipython3",
   "version": "3.7.1"
  }
 },
 "nbformat": 4,
 "nbformat_minor": 2
}
